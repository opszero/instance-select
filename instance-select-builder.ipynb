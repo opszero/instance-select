{
 "cells": [
  {
   "cell_type": "code",
   "execution_count": 11,
   "metadata": {},
   "outputs": [],
   "source": [
    "import pandas as pd\n",
    "\n",
    "import json\n",
    "\n",
    "items = json.load(open(\"./www/instances.json\"))\n",
    "\n",
    "done = []\n",
    "for i in items:\n",
    "    for arch in i[\"arch\"]:\n",
    "        for region, price_values in i[\"pricing\"].items():\n",
    "            if linux := price_values.get(\"linux\"):\n",
    "                done_item = {\n",
    "                    \"instance-type\": i[\"instance_type\"],\n",
    "                    \"arch\": i[\"arch\"],\n",
    "                    \"generation\": i[\"generation\"],\n",
    "                    \"region\": region,\n",
    "                    \"ondemand\": linux['ondemand'],\n",
    "                    \"spot_avg\": linux.get('spot_avg'),\n",
    "                }\n",
    "\n",
    "                done.append(done_item)\n",
    "\n",
    "with open('build/instances.json', 'w') as f:\n",
    "\n",
    "    f.write(json.dumps(\n",
    "    {\n",
    "        \"data\": done\n",
    "    }\n",
    "    ))"
   ]
  }
 ],
 "metadata": {
  "kernelspec": {
   "display_name": "Python 3",
   "language": "python",
   "name": "python3"
  },
  "language_info": {
   "codemirror_mode": {
    "name": "ipython",
    "version": 3
   },
   "file_extension": ".py",
   "mimetype": "text/x-python",
   "name": "python",
   "nbconvert_exporter": "python",
   "pygments_lexer": "ipython3",
   "version": "3.12.0"
  }
 },
 "nbformat": 4,
 "nbformat_minor": 2
}
