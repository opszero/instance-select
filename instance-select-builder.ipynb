{
 "cells": [
  {
   "cell_type": "code",
   "execution_count": 40,
   "metadata": {},
   "outputs": [],
   "source": [
    "import pandas as pd\n",
    "\n",
    "import json\n",
    "\n",
    "items = json.load(open(\"./www/instances.json\"))\n",
    "\n",
    "done = []\n",
    "for i in items:\n",
    "    done_item = {\n",
    "        \"instance_type\": i[\"instance_type\"],\n",
    "        \"arch\": i[\"arch\"],\n",
    "        \"generation\": i[\"generation\"],\n",
    "        # \"price\": i[\"pricing\"]['linux'],\n",
    "        \"pricing\": {}\n",
    "    }\n",
    "\n",
    "    for region, price_values in i[\"pricing\"].items():\n",
    "        if linux := price_values.get(\"linux\"):\n",
    "            done_item[\"pricing\"][region] = {\n",
    "                \"ondemand\": linux['ondemand'],\n",
    "                \"spot_avg\": linux.get('spot_avg'),\n",
    "            }\n",
    "\n",
    "    done.append(done_item)\n",
    "\n",
    "df = pd.DataFrame.from_records(done)\n",
    "\n",
    "df.sort_values(by=[\"instance_type\"], inplace=True)\n",
    "df.to_json(\"build/instances.json\", orient='records', index=False)"
   ]
  }
 ],
 "metadata": {
  "kernelspec": {
   "display_name": "Python 3",
   "language": "python",
   "name": "python3"
  },
  "language_info": {
   "codemirror_mode": {
    "name": "ipython",
    "version": 3
   },
   "file_extension": ".py",
   "mimetype": "text/x-python",
   "name": "python",
   "nbconvert_exporter": "python",
   "pygments_lexer": "ipython3",
   "version": "3.12.0"
  }
 },
 "nbformat": 4,
 "nbformat_minor": 2
}
